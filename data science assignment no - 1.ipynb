{
 "cells": [
  {
   "cell_type": "code",
   "execution_count": 1,
   "id": "674fec38",
   "metadata": {},
   "outputs": [
    {
     "name": "stdout",
     "output_type": "stream",
     "text": [
      "twinkle, twinkle, little star,\n",
      "                  how I wonder what you are!\n",
      "                          up above the world so high,\n",
      "                          like a diamond in the sky.\n",
      "         twinkle, twinkle, little star,\n",
      "                  how I wonder what you are\n"
     ]
    }
   ],
   "source": [
    "# 1. write a python program to print the following string in a specific format(see the output)\n",
    "print('''twinkle, twinkle, little star,\n",
    "                  how I wonder what you are!\n",
    "                          up above the world so high,\n",
    "                          like a diamond in the sky.\n",
    "         twinkle, twinkle, little star,\n",
    "                  how I wonder what you are''')"
   ]
  },
  {
   "cell_type": "code",
   "execution_count": 2,
   "id": "511a745d",
   "metadata": {},
   "outputs": [
    {
     "name": "stdout",
     "output_type": "stream",
     "text": [
      "python version\n",
      "3.8.8 (default, Apr 13 2021, 15:08:03) [MSC v.1916 64 bit (AMD64)]\n",
      "version info.\n",
      "sys.version_info(major=3, minor=8, micro=8, releaselevel='final', serial=0)\n"
     ]
    }
   ],
   "source": [
    "# 2. write a python program to get the python version you are using?\n",
    "\n",
    "import sys\n",
    "print(\"python version\")\n",
    "print (sys.version)\n",
    "print(\"version info.\")\n",
    "print (sys.version_info)"
   ]
  },
  {
   "cell_type": "code",
   "execution_count": 3,
   "id": "4399562b",
   "metadata": {},
   "outputs": [
    {
     "name": "stdout",
     "output_type": "stream",
     "text": [
      "current date and time : \n",
      "2021-10-23  23:59:59\n"
     ]
    }
   ],
   "source": [
    "# 3. write a python program to display the current date and time.\n",
    "\n",
    "import datetime\n",
    "now = datetime.datetime.now()\n",
    "print(\"current date and time : \")\n",
    "print (now.strftime(\"%Y-%m-%d  %H:%M:%S\"))"
   ]
  },
  {
   "cell_type": "code",
   "execution_count": 4,
   "id": "e8e5f7a0",
   "metadata": {},
   "outputs": [
    {
     "name": "stdout",
     "output_type": "stream",
     "text": [
      "enter radius of the circle :3\n",
      "the area of the circle is :  28.274333882308138\n"
     ]
    }
   ],
   "source": [
    "# 4. write a python program which accepts the radius of a circle from the user and compute the area.\n",
    "\n",
    "r = int(input(\"enter radius of the circle :\"))\n",
    "import math\n",
    "area = math.pi*r*r\n",
    "print(\"the area of the circle is : \", area)"
   ]
  },
  {
   "cell_type": "code",
   "execution_count": 5,
   "id": "f734a2b8",
   "metadata": {},
   "outputs": [
    {
     "name": "stdout",
     "output_type": "stream",
     "text": [
      "enter your first name :syed\n",
      "enter your last name :osama\n",
      "osama syed\n"
     ]
    }
   ],
   "source": [
    "# 5. write a python program which accepts the user's first and last name and print them in reverse order with a space between them.\n",
    "\n",
    "first_name = input(\"enter your first name :\")\n",
    "last_name = input(\"enter your last name :\")\n",
    "print(last_name + ' ' + first_name)"
   ]
  },
  {
   "cell_type": "code",
   "execution_count": 6,
   "id": "4661dcc2",
   "metadata": {},
   "outputs": [
    {
     "name": "stdout",
     "output_type": "stream",
     "text": [
      "enetr the first number :5\n",
      "enter the second number :10\n",
      "the sum of the two numbers is : 15\n"
     ]
    }
   ],
   "source": [
    "# 6. write a python program which takes two inputs from user and print their addition.\n",
    "\n",
    "num_1 = int(input(\"enetr the first number :\"))\n",
    "num_2 = int(input(\"enter the second number :\"))\n",
    "print(\"the sum of the two numbers is :\", num_1+num_2)"
   ]
  }
 ],
 "metadata": {
  "kernelspec": {
   "display_name": "Python 3",
   "language": "python",
   "name": "python3"
  },
  "language_info": {
   "codemirror_mode": {
    "name": "ipython",
    "version": 3
   },
   "file_extension": ".py",
   "mimetype": "text/x-python",
   "name": "python",
   "nbconvert_exporter": "python",
   "pygments_lexer": "ipython3",
   "version": "3.8.8"
  }
 },
 "nbformat": 4,
 "nbformat_minor": 5
}
